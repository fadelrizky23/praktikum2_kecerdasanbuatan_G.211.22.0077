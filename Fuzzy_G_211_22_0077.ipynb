{
  "nbformat": 4,
  "nbformat_minor": 0,
  "metadata": {
    "colab": {
      "provenance": []
    },
    "kernelspec": {
      "name": "python3",
      "display_name": "Python 3"
    },
    "language_info": {
      "name": "python"
    }
  },
  "cells": [
    {
      "cell_type": "code",
      "source": [
        "## Import Librari\n",
        "\n",
        "import pandas as pd\n",
        "import numpy as np\n",
        "import random\n",
        "import operator\n",
        "import math\n",
        "\n",
        "# Importing the datasets\n",
        "from google.colab import files\n",
        "uploaded = files.upload()"
      ],
      "metadata": {
        "colab": {
          "base_uri": "https://localhost:8080/",
          "height": 73
        },
        "id": "6nO0Y7WMSyXL",
        "outputId": "890cb8ef-de99-439b-927c-31b6efaac858"
      },
      "execution_count": 12,
      "outputs": [
        {
          "output_type": "display_data",
          "data": {
            "text/plain": [
              "<IPython.core.display.HTML object>"
            ],
            "text/html": [
              "\n",
              "     <input type=\"file\" id=\"files-734fee47-88e3-4b22-816b-e609ef2653fd\" name=\"files[]\" multiple disabled\n",
              "        style=\"border:none\" />\n",
              "     <output id=\"result-734fee47-88e3-4b22-816b-e609ef2653fd\">\n",
              "      Upload widget is only available when the cell has been executed in the\n",
              "      current browser session. Please rerun this cell to enable.\n",
              "      </output>\n",
              "      <script>// Copyright 2017 Google LLC\n",
              "//\n",
              "// Licensed under the Apache License, Version 2.0 (the \"License\");\n",
              "// you may not use this file except in compliance with the License.\n",
              "// You may obtain a copy of the License at\n",
              "//\n",
              "//      http://www.apache.org/licenses/LICENSE-2.0\n",
              "//\n",
              "// Unless required by applicable law or agreed to in writing, software\n",
              "// distributed under the License is distributed on an \"AS IS\" BASIS,\n",
              "// WITHOUT WARRANTIES OR CONDITIONS OF ANY KIND, either express or implied.\n",
              "// See the License for the specific language governing permissions and\n",
              "// limitations under the License.\n",
              "\n",
              "/**\n",
              " * @fileoverview Helpers for google.colab Python module.\n",
              " */\n",
              "(function(scope) {\n",
              "function span(text, styleAttributes = {}) {\n",
              "  const element = document.createElement('span');\n",
              "  element.textContent = text;\n",
              "  for (const key of Object.keys(styleAttributes)) {\n",
              "    element.style[key] = styleAttributes[key];\n",
              "  }\n",
              "  return element;\n",
              "}\n",
              "\n",
              "// Max number of bytes which will be uploaded at a time.\n",
              "const MAX_PAYLOAD_SIZE = 100 * 1024;\n",
              "\n",
              "function _uploadFiles(inputId, outputId) {\n",
              "  const steps = uploadFilesStep(inputId, outputId);\n",
              "  const outputElement = document.getElementById(outputId);\n",
              "  // Cache steps on the outputElement to make it available for the next call\n",
              "  // to uploadFilesContinue from Python.\n",
              "  outputElement.steps = steps;\n",
              "\n",
              "  return _uploadFilesContinue(outputId);\n",
              "}\n",
              "\n",
              "// This is roughly an async generator (not supported in the browser yet),\n",
              "// where there are multiple asynchronous steps and the Python side is going\n",
              "// to poll for completion of each step.\n",
              "// This uses a Promise to block the python side on completion of each step,\n",
              "// then passes the result of the previous step as the input to the next step.\n",
              "function _uploadFilesContinue(outputId) {\n",
              "  const outputElement = document.getElementById(outputId);\n",
              "  const steps = outputElement.steps;\n",
              "\n",
              "  const next = steps.next(outputElement.lastPromiseValue);\n",
              "  return Promise.resolve(next.value.promise).then((value) => {\n",
              "    // Cache the last promise value to make it available to the next\n",
              "    // step of the generator.\n",
              "    outputElement.lastPromiseValue = value;\n",
              "    return next.value.response;\n",
              "  });\n",
              "}\n",
              "\n",
              "/**\n",
              " * Generator function which is called between each async step of the upload\n",
              " * process.\n",
              " * @param {string} inputId Element ID of the input file picker element.\n",
              " * @param {string} outputId Element ID of the output display.\n",
              " * @return {!Iterable<!Object>} Iterable of next steps.\n",
              " */\n",
              "function* uploadFilesStep(inputId, outputId) {\n",
              "  const inputElement = document.getElementById(inputId);\n",
              "  inputElement.disabled = false;\n",
              "\n",
              "  const outputElement = document.getElementById(outputId);\n",
              "  outputElement.innerHTML = '';\n",
              "\n",
              "  const pickedPromise = new Promise((resolve) => {\n",
              "    inputElement.addEventListener('change', (e) => {\n",
              "      resolve(e.target.files);\n",
              "    });\n",
              "  });\n",
              "\n",
              "  const cancel = document.createElement('button');\n",
              "  inputElement.parentElement.appendChild(cancel);\n",
              "  cancel.textContent = 'Cancel upload';\n",
              "  const cancelPromise = new Promise((resolve) => {\n",
              "    cancel.onclick = () => {\n",
              "      resolve(null);\n",
              "    };\n",
              "  });\n",
              "\n",
              "  // Wait for the user to pick the files.\n",
              "  const files = yield {\n",
              "    promise: Promise.race([pickedPromise, cancelPromise]),\n",
              "    response: {\n",
              "      action: 'starting',\n",
              "    }\n",
              "  };\n",
              "\n",
              "  cancel.remove();\n",
              "\n",
              "  // Disable the input element since further picks are not allowed.\n",
              "  inputElement.disabled = true;\n",
              "\n",
              "  if (!files) {\n",
              "    return {\n",
              "      response: {\n",
              "        action: 'complete',\n",
              "      }\n",
              "    };\n",
              "  }\n",
              "\n",
              "  for (const file of files) {\n",
              "    const li = document.createElement('li');\n",
              "    li.append(span(file.name, {fontWeight: 'bold'}));\n",
              "    li.append(span(\n",
              "        `(${file.type || 'n/a'}) - ${file.size} bytes, ` +\n",
              "        `last modified: ${\n",
              "            file.lastModifiedDate ? file.lastModifiedDate.toLocaleDateString() :\n",
              "                                    'n/a'} - `));\n",
              "    const percent = span('0% done');\n",
              "    li.appendChild(percent);\n",
              "\n",
              "    outputElement.appendChild(li);\n",
              "\n",
              "    const fileDataPromise = new Promise((resolve) => {\n",
              "      const reader = new FileReader();\n",
              "      reader.onload = (e) => {\n",
              "        resolve(e.target.result);\n",
              "      };\n",
              "      reader.readAsArrayBuffer(file);\n",
              "    });\n",
              "    // Wait for the data to be ready.\n",
              "    let fileData = yield {\n",
              "      promise: fileDataPromise,\n",
              "      response: {\n",
              "        action: 'continue',\n",
              "      }\n",
              "    };\n",
              "\n",
              "    // Use a chunked sending to avoid message size limits. See b/62115660.\n",
              "    let position = 0;\n",
              "    do {\n",
              "      const length = Math.min(fileData.byteLength - position, MAX_PAYLOAD_SIZE);\n",
              "      const chunk = new Uint8Array(fileData, position, length);\n",
              "      position += length;\n",
              "\n",
              "      const base64 = btoa(String.fromCharCode.apply(null, chunk));\n",
              "      yield {\n",
              "        response: {\n",
              "          action: 'append',\n",
              "          file: file.name,\n",
              "          data: base64,\n",
              "        },\n",
              "      };\n",
              "\n",
              "      let percentDone = fileData.byteLength === 0 ?\n",
              "          100 :\n",
              "          Math.round((position / fileData.byteLength) * 100);\n",
              "      percent.textContent = `${percentDone}% done`;\n",
              "\n",
              "    } while (position < fileData.byteLength);\n",
              "  }\n",
              "\n",
              "  // All done.\n",
              "  yield {\n",
              "    response: {\n",
              "      action: 'complete',\n",
              "    }\n",
              "  };\n",
              "}\n",
              "\n",
              "scope.google = scope.google || {};\n",
              "scope.google.colab = scope.google.colab || {};\n",
              "scope.google.colab._files = {\n",
              "  _uploadFiles,\n",
              "  _uploadFilesContinue,\n",
              "};\n",
              "})(self);\n",
              "</script> "
            ]
          },
          "metadata": {}
        },
        {
          "output_type": "stream",
          "name": "stdout",
          "text": [
            "Saving Data.csv to Data.csv\n"
          ]
        }
      ]
    },
    {
      "cell_type": "code",
      "source": [
        "## reading the input csv file\n",
        "\n",
        "df_full = pd.read_csv(\"Data.csv\")\n",
        "columns = list(df_full.columns)\n",
        "features = columns[:len(columns)-1]\n",
        "class_labels = list(df_full[columns[-1]])\n",
        "df = df_full[features]"
      ],
      "metadata": {
        "id": "xM1noKukTCpj"
      },
      "execution_count": 13,
      "outputs": []
    },
    {
      "cell_type": "code",
      "source": [
        "# Jumlah atribut\n",
        "num_attr = len(df.columns) -1\n",
        "\n",
        "#Jumlah Cluster\n",
        "k = 2\n",
        "\n",
        "#Maksimum Iteras!\n",
        "MAX_ITER = 100\n",
        "\n",
        "# Jumlah data poin\n",
        "n = len(df)\n",
        "\n",
        "#Fuzzy parameter\n",
        "m = 2.00"
      ],
      "metadata": {
        "id": "L9R8VigOTMhj"
      },
      "execution_count": 14,
      "outputs": []
    },
    {
      "cell_type": "code",
      "source": [
        "#### fungsi akurasi untuk menghitung akurasi dari hasil\n",
        "\n",
        "def accuracy(cluster_labels, class_labels):\n",
        "    county = [0,0]\n",
        "    countn = [0,0]\n",
        "    tp = [0,0]\n",
        "    tn = [0,0]\n",
        "    fp = [0,0]\n",
        "    fn = [0,0]\n",
        "\n",
        "    for i in range(len(df)):\n",
        "        #Yes = 1, No = 0\n",
        "        if cluster_labels [i] == 1 and class_labels[i] == 'Yes':\n",
        "            tp[0] = tp[0] + 1\n",
        "        if cluster_labels [i] == 0 and class_labels[i] == 'No':\n",
        "            tn[0] = tn[0] + 1\n",
        "        if cluster_labels [i] == 1 and class_labels[i] == 'No':\n",
        "            fp[0] = fp[0] + 1\n",
        "        if cluster_labels [i] == 0 and class_labels[i] == 'Yes':\n",
        "            fn[0] = fn[0] + 1\n",
        "\n",
        "    for i in range(len(df)):\n",
        "        #Yes = 0, No = 1\n",
        "        if cluster_labels [i] == 0 and class_labels[i] == 'Yes':\n",
        "            tp[1] = tp[1] + 1\n",
        "        if cluster_labels [i] == 1 and class_labels[i] == 'No':\n",
        "            tn[1] = tn[1] + 1\n",
        "        if cluster_labels [i] == 0 and class_labels[i] == 'No':\n",
        "            fp[1] = fp[1] + 1\n",
        "        if cluster_labels [i] == 1 and class_labels[i] == 'Yes':\n",
        "            fn[1] = fn[1] + 1\n",
        "\n",
        "    a0 = float((tp[0] + tn[0]))/(tp[0] + tn[0] + fn[0] + fp[0])\n",
        "    a1 = float((tp[1] + tn[1]))/(tp[1] + tn[1] + fn[1] + fp[1])\n",
        "    p0 = float(tp[0])/(tp[0] + fp[0])\n",
        "    p1 = float(tp[1])/(tp[1] + fp[1])\n",
        "    r0 = float(tp[0])/(tp[0] + fp[0])\n",
        "    r1 = float(tp[1])/(tp[1] + fp[1])\n",
        "\n",
        "    accuracy = [a0*100,a1*100]\n",
        "    precision = [p0*100,p1*100]\n",
        "    recall = [r0*100,r1*100]\n",
        "\n",
        "    return accuracy, precision, recall"
      ],
      "metadata": {
        "id": "bEFi4VxuTSom"
      },
      "execution_count": 15,
      "outputs": []
    },
    {
      "cell_type": "code",
      "source": [
        "### Inisialiasi Jumlah matriks dengn random value\n",
        "\n",
        "def initializeMembershipMatrix():\n",
        "    membership_mat = list()\n",
        "    for i in range(n):\n",
        "        random_num_list = [random.random() for i in range(k)]\n",
        "        summation = sum(random_num_list)\n",
        "        temp_list = [x/summation for x in random_num_list]\n",
        "        membership_mat.append(temp_list)\n",
        "    return membership_mat"
      ],
      "metadata": {
        "id": "EUfxmO8fTeER"
      },
      "execution_count": 16,
      "outputs": []
    },
    {
      "cell_type": "code",
      "source": [
        "### menghitung pusat cluster dengan setiap iterasi\n",
        "\n",
        "def calculateClusterCenter(membership_mat):\n",
        "    cluster_mem_val = list(zip(*membership_mat))\n",
        "    cluster_centers = list()\n",
        "    for j in range(k):\n",
        "        x = list(cluster_mem_val[j])\n",
        "        xraised = [e ** m for e in x]\n",
        "        denominator = sum(xraised)\n",
        "        temp_num = list()\n",
        "        for i in range(n):\n",
        "            data_point = list(df.iloc[i])\n",
        "            prod = [xraised[i] * val for val in data_point]\n",
        "            temp_num.append(prod)\n",
        "        numerator = map(sum, zip(*temp_num))\n",
        "        center = [z/denominator for z in numerator]\n",
        "        cluster_centers.append(center)\n",
        "    return cluster_centers"
      ],
      "metadata": {
        "id": "cVlvTiU0TjM5"
      },
      "execution_count": 17,
      "outputs": []
    },
    {
      "cell_type": "code",
      "source": [
        "### update nilai anggota dengan pusat cluster\n",
        "\n",
        "def updateMembershipValue (membership_mat, cluster_centers):\n",
        "    p = float (2/(m-1))\n",
        "    for i in range(n):\n",
        "        x = list(df.iloc[i])\n",
        "        distances = [np.linalg.norm(list(map(operator.sub, x, cluster_centers [j]))) for j in range(k)]\n",
        "        for j in range(k):\n",
        "            den = sum([math.pow(float(distances [j]/distances [c]), p) for c in range(k)])\n",
        "            membership_mat[i][j] = float(1/den)\n",
        "            return membership_mat"
      ],
      "metadata": {
        "id": "yeXO8ZkcTq-9"
      },
      "execution_count": 18,
      "outputs": []
    },
    {
      "cell_type": "code",
      "source": [
        "def getClusters (membership_mat):\n",
        "    cluster_labels = list()\n",
        "    for i in range(n):\n",
        "        max_val, idx = max((val, idx) for (idx, val) in enumerate(membership_mat[i]))\n",
        "        cluster_labels.append(idx)\n",
        "    return cluster_labels"
      ],
      "metadata": {
        "id": "EzeOgt3QTu0p"
      },
      "execution_count": 19,
      "outputs": []
    },
    {
      "cell_type": "code",
      "source": [
        "### final fungsi FCM\n",
        "\n",
        "def fuzzyCMeansClustering():\n",
        "    # Membership Matrix\n",
        "    membership_mat = initializeMembershipMatrix()\n",
        "    curr = 0\n",
        "    while curr <= MAX_ITER:\n",
        "        cluster_centers = calculateClusterCenter(membership_mat)\n",
        "        membership_mat = updateMembershipValue(membership_mat, cluster_centers)\n",
        "        cluster_labels = getClusters(membership_mat)\n",
        "        curr += 1\n",
        "\n",
        "    print (membership_mat)\n",
        "    return cluster_labels, cluster_centers"
      ],
      "metadata": {
        "id": "Bmf8yuV-TziA"
      },
      "execution_count": 20,
      "outputs": []
    },
    {
      "cell_type": "code",
      "source": [
        "### memanggil fungsi utama dan mengirimkan hasil akhir dalam label dan pusat cluster\n",
        "\n",
        "print(\"printing the final membership matrix\")\n",
        "\n",
        "labels, centers = fuzzyCMeansClustering()\n",
        "\n",
        "print(\"printing cluster centers\")\n",
        "print(centers)"
      ],
      "metadata": {
        "colab": {
          "base_uri": "https://localhost:8080/"
        },
        "id": "vQoCa56eT7QZ",
        "outputId": "a148de4a-762c-4d21-cdee-87244c95572f"
      },
      "execution_count": 21,
      "outputs": [
        {
          "output_type": "stream",
          "name": "stdout",
          "text": [
            "printing the final membership matrix\n",
            "[[0.49226290390522487, 0.6037832085842488], [0.6457542787758082, 0.3542457212241918], [0.9972854421412428, 0.0027145578587571546], [0.33542020890498575, 0.6645797910950142], [0.5829960316123844, 0.4170039683876157], [0.3701563369501779, 0.6298436630498221], [0.5050809073648859, 0.4949190926351142], [0.7392941408839734, 0.26070585911602656], [0.8247895949808782, 0.17521040501912177], [0.5151159872654895, 0.48488401273451054], [0.5233473796284805, 0.47665262037151934], [0.48656977744628593, 0.5134302225537141], [0.8228121265125542, 0.17718787348744575], [0.5998886888589364, 0.4001113111410635], [0.4196366718365934, 0.5803633281634065], [0.5440669250801008, 0.4559330749198992], [0.6052024446679034, 0.39479755533209665], [0.011737473798223009, 0.988262526201777], [0.9528279644202773, 0.04717203557972275], [0.5435826570673414, 0.4564173429326585], [0.28265758053816986, 0.7173424194618301], [0.3939007887221262, 0.6060992112778738], [0.31265958965584395, 0.687340410344156], [0.5037874074909878, 0.4962125925090121], [0.6542414335369219, 0.3457585664630781], [0.5328979105727425, 0.4671020894272575], [0.3581894653459439, 0.641810534654056], [0.22883580920370902, 0.771164190796291], [0.4316508482349586, 0.5683491517650414], [0.9570451134219661, 0.0429548865780339], [0.39815514059590645, 0.6018448594040936], [0.8824327341075232, 0.11756726589247679], [0.4189109665119738, 0.5810890334880261], [0.43455382798416686, 0.5654461720158331], [0.7425375831894057, 0.2574624168105944], [0.4582398938594599, 0.5417601061405402], [0.23179427696302368, 0.7682057230369763], [0.21795614594468524, 0.7820438540553147], [0.9927040803440931, 0.007295919655906811], [0.5235209174354546, 0.4764790825645454], [0.7459555627785237, 0.2540444372214763], [0.5182881232740247, 0.4817118767259753], [0.39482093323311207, 0.6051790667668879], [0.7705161694748947, 0.2294838305251054], [0.5993054114110639, 0.4006945885889362], [0.5897288051621054, 0.4102711948378946], [0.08004670274093811, 0.9199532972590619], [0.6097672716164958, 0.3902327283835041], [0.3658465308273496, 0.6341534691726504], [0.37314063278375725, 0.6268593672162427], [0.4987884533214747, 0.5012115466785253], [0.16167037641163745, 0.8383296235883625], [0.1745748487032751, 0.8254251512967249], [0.7121312219338521, 0.28786877806614786], [0.47408775735980496, 0.525912242640195], [0.18112887002650147, 0.8188711299734985], [0.4201715550345909, 0.5798284449654092], [0.8617780168179426, 0.13822198318205736], [0.8827099950024132, 0.11729000499758677], [0.6108873070504706, 0.38911269294952944], [0.5954932592137652, 0.4045067407862349], [0.6728147514875255, 0.32718524851247455], [0.3663716715474046, 0.6336283284525954], [0.02195810575908378, 0.9780418942409163], [0.5195644365187686, 0.48043556348123145], [0.7989744643168841, 0.20102553568311593], [0.20995046706928813, 0.7900495329307119], [0.5735774445067966, 0.4264225554932034], [0.5135358957435123, 0.4864641042564878], [0.38313812312437706, 0.6168618768756229], [0.7501261283843753, 0.24987387161562466], [0.009195094506856924, 0.990804905493143], [0.8452510886009846, 0.15474891139901537], [0.14812589302650808, 0.851874106973492], [0.7933300072162778, 0.2066699927837222], [0.3486389455308576, 0.6513610544691424], [0.5896150090837622, 0.4103849909162378], [0.6036350077321011, 0.39636499226789895], [0.815017672933684, 0.18498232706631604], [0.8172048212403421, 0.18279517875965784], [0.5053086141114549, 0.4946913858885451], [0.5593626356642704, 0.44063736433572975], [0.42822620002547446, 0.5717737999745256], [0.9393152445116071, 0.060684755488392944], [0.2544173959306602, 0.7455826040693397], [0.44662975815004097, 0.553370241849959], [0.7005938172257818, 0.29940618277421815], [0.5661353547836177, 0.4338646452163823], [0.4230472141277515, 0.5769527858722484], [0.9961768711516998, 0.0038231288483001613], [0.37996043875570373, 0.6200395612442963], [0.6662243095425683, 0.33377569045743166], [0.7422248620210259, 0.25777513797897417], [0.4923841246475438, 0.5076158753524562], [0.6828089035523442, 0.3171910964476557], [0.22093839037386748, 0.7790616096261326], [0.8058944741851919, 0.19410552581480817], [0.22270718910081058, 0.7772928108991894], [0.9379193655704705, 0.06208063442952954], [0.2085672047901873, 0.7914327952098128], [0.10797534390233651, 0.8920246560976635], [0.8486627694054814, 0.15133723059451865], [0.9019289816227272, 0.09807101837727288], [0.8717543425812395, 0.1282456574187605], [0.5137035021785733, 0.48629649782142664], [0.506960935347602, 0.4930390646523981], [0.3054860258810313, 0.6945139741189688], [0.8147781400952956, 0.18522185990470433], [0.48229980519364835, 0.5177001948063518], [0.35443943239131526, 0.6455605676086847]]\n",
            "printing cluster centers\n",
            "[[67.50395630918975, 66.85026915595213, 70.19958420047564, 70.14364181726599, 67.10385313378191, 66.65919266617527, 70.81362101085854, 71.26556417888997, 63.302248929154956, 63.28916368114196, 70.792789905727, 71.4694756775397, 68.1687592814024, 69.15766345670619, 63.25554942459364, 60.59881135318833, 67.57956612318716, 66.47853735957585, 65.9842931834008, 62.96622835221573, 73.77539440442408, 72.5070285454028, 68.10983367442184, 67.72453510617984, 58.989582512379826, 58.203468921313934, 61.083340622495356, 59.92184614412027, 62.98090648387352, 61.62525060580416, 71.631199061541, 71.57838569598499, 61.92627849326012, 62.36545878812531, 64.40481681924209, 63.61481521513348, 65.30006972730607, 64.26910689934444, 67.91437622522055, 66.04164015447566, 66.00291471614108, 64.27339697577152, 55.1755746593886, 54.31480294838615], [67.49330612968421, 66.94811664369387, 68.48370357913129, 70.1619343992442, 67.2490830239667, 68.1067238990775, 71.7091755503619, 71.13776066661254, 64.72010320743964, 64.00271426708646, 69.2556302238139, 69.77897491253256, 67.98605340192749, 68.83918226448152, 65.33708105735631, 63.299771510855244, 69.41435017382894, 68.08418984301753, 67.26023973013528, 65.87353848141676, 74.78803879064579, 73.16618685189073, 68.73897624919637, 68.42500482895412, 61.401737728654226, 60.3226634215751, 64.35995913018681, 62.920398943833106, 65.71486248920142, 65.5222599311138, 71.64294798261975, 72.87680544880767, 62.18446733871992, 62.51287804930924, 66.39359173904501, 65.9357674633154, 66.18012883724711, 65.49605235715899, 69.86427379800719, 69.4338894132511, 66.00162257520724, 64.68498039208683, 55.807186143635555, 54.16510674299295]]\n"
          ]
        }
      ]
    },
    {
      "cell_type": "code",
      "source": [
        "### menghitung hasil akurasi\n",
        "\n",
        "a,p,r = accuracy(labels, class_labels)\n",
        "\n",
        "### catak nilai akurasi\n",
        "\n",
        "print(\"Accuracy =\"+ str(a))\n",
        "print(\"Precision =\" + str(p))\n",
        "print(\"Recall = \" + str(r))"
      ],
      "metadata": {
        "colab": {
          "base_uri": "https://localhost:8080/"
        },
        "id": "s82MCOwqUADe",
        "outputId": "81b5f573-eda9-49f0-da53-19956efc4aa3"
      },
      "execution_count": 22,
      "outputs": [
        {
          "output_type": "stream",
          "name": "stdout",
          "text": [
            "Accuracy =[40.909090909090914, 59.09090909090909]\n",
            "Precision =[39.58333333333333, 58.06451612903226]\n",
            "Recall = [39.58333333333333, 58.06451612903226]\n"
          ]
        }
      ]
    }
  ]
}